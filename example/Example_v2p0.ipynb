{
 "cells": [
  {
   "cell_type": "code",
   "execution_count": 27,
   "id": "c6c0e41d",
   "metadata": {},
   "outputs": [],
   "source": [
    "#imports\n",
    "import sys\n",
    "import os\n",
    "os.chdir(os.path.dirname(os.getcwd()))\n",
    "import numpy as np\n",
    "# import torch\n",
    "from util.methods import *\n",
    "import matplotlib.pyplot as plt\n",
    "from astropy.io import fits\n",
    "\n",
    "plt.style.use(\"root\")\n",
    "\n",
    "# this allows plots to appear directly in the notebook\n",
    "%matplotlib inline"
   ]
  },
  {
   "cell_type": "markdown",
   "id": "7a513700",
   "metadata": {},
   "source": [
    "# Step 1: Raw track reconstruction"
   ]
  },
  {
   "cell_type": "markdown",
   "id": "ff93fedf",
   "metadata": {},
   "source": [
    "Run GPDSW reconstruction on the raw fits files, this step is the same for simulated and real (calibration) data. This requires up to date GPDSW and GPDEXT software from the [IXPE bitbucket](https://bitbucket.org/ixpesw/workspace/projects/IGS).\n",
    "\n",
    "**We do not provide the whole of GPDSW and GPDEXT in this repository, this must be installed independently by the user.**"
   ]
  },
  {
   "cell_type": "markdown",
   "id": "ed428e8a",
   "metadata": {},
   "source": [
    "## Real (calibration) data"
   ]
  },
  {
   "cell_type": "markdown",
   "id": "1412435e",
   "metadata": {},
   "source": [
    "Example gpdsw commands for reconstructing real data."
   ]
  },
  {
   "cell_type": "markdown",
   "id": "1f1df9e8",
   "metadata": {},
   "source": [
    "```\n",
    "cd gpdsw/\n",
    "source setup.sh\n",
    "\n",
    "cd bin/\n",
    "./ixperecon \n",
    "        --write-tracks \n",
    "        --input-files example/data/4p51keV_pol.fits \n",
    "        --threshold 20\n",
    "        --output-folder example/data\n",
    "        --n 50000\n",
    "```"
   ]
  },
  {
   "cell_type": "markdown",
   "id": "3da29732",
   "metadata": {},
   "source": [
    "## Simulated Data\n"
   ]
  },
  {
   "cell_type": "markdown",
   "id": "07f72b6d",
   "metadata": {},
   "source": [
    "Example gpdsw commands for simulating and reconstructing simulated data.\n",
    "\n",
    "I recommend simulating tracks from spectral files, e.g. `flat.txt` shown below and saved in `example/data`. This is much more efficient than simulating multiple line sources.\n",
    "\n",
    "`gpdswpy/fitsplit.py` splits the simulated fits file into two parts (one part with the monte carlo data `\"_mc.fits\"` and one with the rest `\".fits\"`) to make ixperecon run faster (otherwise it is prohibitively slow for simulated data).\n",
    "\n",
    "Since the final `sim_spec_recon.fits` file produce by ixperecon and `\"_mc.fits\"` contain all the data, we can delete the original `\".fits\"` file to save space."
   ]
  },
  {
   "cell_type": "markdown",
   "id": "0efc032c",
   "metadata": {},
   "source": [
    "```\n",
    "cd gpdsw/\n",
    "source setup.sh\n",
    "\n",
    "cd bin/\n",
    "./ixpesim -n 50000 \n",
    "            --random-seed 194 \n",
    "            --output-file example/data/sim_spec.fits \n",
    "            --log-file example/data/sim_spec.log \n",
    "            --src-spectrum user \n",
    "            --src-spec-file example/data/flat.txt \n",
    "            --src-pol-degree 0 \n",
    "            --src-pol-angle 0 \n",
    "            --dme-pressure 687 \n",
    "\n",
    "cd ..\n",
    "python gpdswpy/fitsplit.py example/data/sim_spec.fits \n",
    "\n",
    "cd bin/ \n",
    "./ixperecon --write-tracks \n",
    "            --input-files example/data/sim_spec.fits\n",
    "            --threshold 20\n",
    "            --output-folder example/data/ \n",
    "            \n",
    "rm example/data/sim_spec.fits\n",
    "\n",
    "```"
   ]
  },
  {
   "cell_type": "markdown",
   "id": "a339b747",
   "metadata": {},
   "source": [
    "# Step 2: Hexagonal -> Square"
   ]
  },
  {
   "cell_type": "markdown",
   "id": "102f2d2c",
   "metadata": {},
   "source": [
    "Transform the fits files of hexagonal tracks into square tracks for the NNs to use. The final products of this step are directories containing:\n",
    "* ```tracks_full.pickle``` (Containing sparse representations of square tracks to be read by the NNs)\n",
    "* ```labels_full.pt``` (Containing all of the track metadata -- angles_simulated, angles_moments, energies, abs_pts_simulated, abs_pts_moments, ...  )\n",
    "\n",
    "This step is handled by ```run_build_fitsdata.py```, which contains multiple options for designing a simulated or real square dataset from hexagonal fits files."
   ]
  },
  {
   "cell_type": "code",
   "execution_count": 2,
   "id": "fdd38768",
   "metadata": {},
   "outputs": [
    {
     "name": "stdout",
     "output_type": "stream",
     "text": [
      "usage: run_build_fitsdata.py [-h] [--augment {1,3,6}] [--npix {30,50}] [--sim]\r\n",
      "                             [--tot TOT] [--peak_only] [--tailvpeak TAILVPEAK]\r\n",
      "                             input_file out_base\r\n",
      "\r\n",
      "positional arguments:\r\n",
      "  input_file            input folder or file\r\n",
      "  out_base              output folder\r\n",
      "\r\n",
      "optional arguments:\r\n",
      "  -h, --help            show this help message and exit\r\n",
      "  --augment {1,3,6}     Number of Track augmentation randomly distributed in\r\n",
      "                        dataset. These should always be 6 during inference and\r\n",
      "                        1 during training\r\n",
      "  --npix {30,50}        Number of pixels in square conversions. This should be\r\n",
      "                        50 for v2.0.\r\n",
      "  --sim                 Whether to incorporate monte carlo simulated data, not\r\n",
      "                        strictly necessary.\r\n",
      "  --tot TOT             The total number of tracks to convert to square\r\n",
      "  --peak_only           No low or high Z tail tracks\r\n",
      "  --tailvpeak TAILVPEAK\r\n",
      "                        Fraction of Peak tracks to keep.\r\n"
     ]
    }
   ],
   "source": [
    "!python3 run_build_fitsdata.py -h"
   ]
  },
  {
   "cell_type": "markdown",
   "id": "34e9fe53",
   "metadata": {},
   "source": [
    "## Make measured square dataset"
   ]
  },
  {
   "cell_type": "code",
   "execution_count": 24,
   "id": "42b993d5",
   "metadata": {},
   "outputs": [
    {
     "name": "stdout",
     "output_type": "stream",
     "text": [
      "Total number of unique tracks = 50000\n",
      "\n",
      "Directory already exists\n",
      "No Monte Carlo, measured data only \n",
      "\n",
      "50000 loaded ok\n",
      "\n",
      " Beginning hex -> square conversion \n",
      "\n",
      "0 of 50000 tracks constructed.\n",
      "2500 of 50000 tracks constructed.\n",
      "5000 of 50000 tracks constructed.\n",
      "7500 of 50000 tracks constructed.\n",
      "10000 of 50000 tracks constructed.\n",
      "12500 of 50000 tracks constructed.\n",
      "15000 of 50000 tracks constructed.\n",
      "17500 of 50000 tracks constructed.\n",
      "20000 of 50000 tracks constructed.\n",
      "22500 of 50000 tracks constructed.\n",
      "25000 of 50000 tracks constructed.\n",
      "27500 of 50000 tracks constructed.\n",
      "30000 of 50000 tracks constructed.\n",
      "32500 of 50000 tracks constructed.\n",
      "35000 of 50000 tracks constructed.\n",
      "37500 of 50000 tracks constructed.\n",
      "40000 of 50000 tracks constructed.\n",
      "42500 of 50000 tracks constructed.\n",
      "45000 of 50000 tracks constructed.\n",
      "47500 of 50000 tracks constructed.\n",
      "Final size:  torch.Size([50000])\n",
      "Flagged 34 tracks.\n",
      "Finished \n",
      "\n",
      "Saved,  example/data/meas4p51\n"
     ]
    }
   ],
   "source": [
    "#Measured (calibration) data or simulated data.\n",
    "\n",
    "!python3 run_build_fitsdata.py example/data/4p51keV_pol_recon.fits example/data/meas4p51"
   ]
  },
  {
   "cell_type": "markdown",
   "id": "c2469d85",
   "metadata": {},
   "source": [
    "# Step 3: Deep Ensemble\n"
   ]
  },
  {
   "cell_type": "markdown",
   "id": "0f9e94e6",
   "metadata": {},
   "source": [
    "Run square track datasets through the deep ensemble of NNs. **This requires a GPU available (the more the merrier).**\n",
    "This step is run with ```run_ensemble_eval.py```; the results are saved in a fits file specified with ```save_name```.\n",
    "\n",
    "**Notes:**\n",
    "* I suggest playing with the `--batch_size` parameter if the code is throwing GPU memory based errors. It should always be a factor of 2, e.g. 512, 1024, 2048, 4096. Higher batch size means faster runtime but more memory usage on the GPUs. You should try to make it as large as possible before a memory error is thrown."
   ]
  },
  {
   "cell_type": "code",
   "execution_count": 5,
   "id": "2518e84e",
   "metadata": {},
   "outputs": [
    {
     "name": "stdout",
     "output_type": "stream",
     "text": [
      "usage: run_ensemble_eval.py [-h] [--data_list DATA_LIST [DATA_LIST ...]]\r\n",
      "                            [--batch_size BATCH_SIZE] [--nworkers NWORKERS]\r\n",
      "                            [--datatype {meas,sim}]\r\n",
      "                            [--stokes_correct {2.0,2.3,2.7,3.1,3.7,5.9}]\r\n",
      "                            save_name\r\n",
      "\r\n",
      "positional arguments:\r\n",
      "  save_name             Save Net FoV results in Pandas dataframe with this\r\n",
      "                        name\r\n",
      "\r\n",
      "optional arguments:\r\n",
      "  -h, --help            show this help message and exit\r\n",
      "  --data_list DATA_LIST [DATA_LIST ...]\r\n",
      "                        List of Data to evaluate on\r\n",
      "  --batch_size BATCH_SIZE\r\n",
      "                        Batch size to use for NN evaluation, lower if out of\r\n",
      "                        memory error. Maximum possible size should be used to\r\n",
      "                        maximize speed.\r\n",
      "  --nworkers NWORKERS   Number cpu processes that load data to gpus, should\r\n",
      "                        always be <= ngpus and <= ncpus or it may slow things\r\n",
      "                        down.\r\n",
      "  --datatype {meas,sim}\r\n",
      "                        Simulated or Measured track data, should just use\r\n",
      "                        default (meas).\r\n",
      "  --stokes_correct {2.0,2.3,2.7,3.1,3.7,5.9}\r\n",
      "                        Whether to correct measured tracks for spurious\r\n",
      "                        modulation (incomplete).\r\n"
     ]
    }
   ],
   "source": [
    "!python3 run_ensemble_eval.py -h"
   ]
  },
  {
   "cell_type": "markdown",
   "id": "34087d5a",
   "metadata": {},
   "source": [
    "### Measured Data\n"
   ]
  },
  {
   "cell_type": "code",
   "execution_count": 2,
   "id": "98396d34",
   "metadata": {},
   "outputs": [
    {
     "name": "stdout",
     "output_type": "stream",
     "text": [
      "Number of GPUs available: 2\n",
      "\n",
      "Evaluating using ensemble: \n",
      " v2.0\n",
      "\n",
      " 6 NNs in the ensemble \n",
      "\n",
      ">> Angular NN 1/3 : \n",
      "\n",
      "Loading full dataset into memory\n",
      "\n",
      "Dataset:  /home/groups/rwr/alpv95/tracksml/example/data/meas4p51/\n",
      "Dataset size:  50000\n",
      "NN on GPU \n",
      "\n",
      "=> loading checkpoint '/home/groups/rwr/alpv95/tracksml/net_archive/68720aeff_peakonly_mserrall3_O1gpu/models/mom_1024_110.ptmodel'\n",
      "Let's use 2 GPUs!\n",
      "Evaluating on GPU \n",
      "\n",
      "0 of 50000 reconstructed.\n",
      ">> Complete\n",
      ">> Angular NN 2/3 : \n",
      "\n",
      "Loading full dataset into memory\n",
      "\n",
      "Dataset:  /home/groups/rwr/alpv95/tracksml/example/data/meas4p51/\n",
      "Dataset size:  50000\n",
      "NN on GPU \n",
      "\n",
      "=> loading checkpoint '/home/groups/rwr/alpv95/tracksml/net_archive/68720aeff_peakonly_mserrall3_O1gpu/models/RLRP_512_90.ptmodel'\n",
      "Let's use 2 GPUs!\n",
      "Evaluating on GPU \n",
      "\n",
      "0 of 50000 reconstructed.\n",
      ">> Complete\n",
      ">> Angular NN 3/3 : \n",
      "\n",
      "Loading full dataset into memory\n",
      "\n",
      "Dataset:  /home/groups/rwr/alpv95/tracksml/example/data/meas4p51/\n",
      "Dataset size:  50000\n",
      "NN on GPU \n",
      "\n",
      "=> loading checkpoint '/home/groups/rwr/alpv95/tracksml/net_archive/68720aeff_peakonly_mserrall3_O1/models/mom_1024_170.ptmodel'\n",
      "Let's use 2 GPUs!\n",
      "Evaluating on GPU \n",
      "\n",
      "0 of 50000 reconstructed.\n",
      ">> Complete\n",
      ">> Ptail NN 1/3 : \n",
      "\n",
      "Loading full dataset into memory\n",
      "\n",
      "Dataset:  /home/groups/rwr/alpv95/tracksml/example/data/meas4p51/\n",
      "Dataset size:  50000\n",
      "NN on GPU \n",
      "\n",
      "=> loading checkpoint '/home/groups/rwr/alpv95/tracksml/net_archive/68720aeff_tailvpeak0p1_O1/models/mom_512_50.ptmodelB'\n",
      "Let's use 2 GPUs!\n",
      "Evaluating on GPU \n",
      "\n",
      "0 of 50000 reconstructed.\n",
      ">> Complete\n",
      ">> Ptail NN 2/3 : \n",
      "\n",
      "Loading full dataset into memory\n",
      "\n",
      "Dataset:  /home/groups/rwr/alpv95/tracksml/example/data/meas4p51/\n",
      "Dataset size:  50000\n",
      "NN on GPU \n",
      "\n",
      "=> loading checkpoint '/home/groups/rwr/alpv95/tracksml/net_archive/68720aeff_tailvpeak0p5_O1/models/RLRP_1024_30.ptmodelB'\n",
      "Let's use 2 GPUs!\n",
      "Evaluating on GPU \n",
      "\n",
      "0 of 50000 reconstructed.\n",
      ">> Complete\n",
      ">> Ptail NN 3/3 : \n",
      "\n",
      "Loading full dataset into memory\n",
      "\n",
      "Dataset:  /home/groups/rwr/alpv95/tracksml/example/data/meas4p51/\n",
      "Dataset size:  50000\n",
      "NN on GPU \n",
      "\n",
      "=> loading checkpoint '/home/groups/rwr/alpv95/tracksml/net_archive/68720aeff_tailvpeak1p0_O1/models/RLRP_1024_30.ptmodelB'\n",
      "Let's use 2 GPUs!\n",
      "Evaluating on GPU \n",
      "\n",
      "0 of 50000 reconstructed.\n",
      ">> Complete\n",
      "Saved to: /home/groups/rwr/alpv95/tracksml/example_data_meas4p51___nn_4p51__ensemble.fits\n"
     ]
    }
   ],
   "source": [
    "#Run tracks through deep ensemble (requires GPU available)\n",
    "print(\"Number of GPUs available: {}\\n\".format(torch.cuda.device_count()))\n",
    "\n",
    "!python3 run_ensemble_eval.py nn_4p51 --data_list example/data/meas4p51/ --batch_size 1024 --seed 42"
   ]
  },
  {
   "cell_type": "markdown",
   "id": "eeae055e",
   "metadata": {},
   "source": [
    "# Step 4: Analyze results / Postprocess\n"
   ]
  },
  {
   "cell_type": "markdown",
   "id": "2040bcc5",
   "metadata": {},
   "source": [
    "Full results from the deep ensembles and moment analysis are saved in a single fits file, just like the moment analysis `_recon.fits`."
   ]
  },
  {
   "cell_type": "markdown",
   "id": "eec8ba99",
   "metadata": {},
   "source": [
    "## Loading results for analysis"
   ]
  },
  {
   "cell_type": "code",
   "execution_count": 19,
   "id": "af88dd20",
   "metadata": {},
   "outputs": [],
   "source": [
    "with fits.open('/Users/jtd/Documents/research/IXPEML/example/data_02001399_recon___nn_msh__ensemble.fits', memmap=False) as hdu:\n",
    "    meas_results = hdu[1].data"
   ]
  },
  {
   "cell_type": "code",
   "execution_count": 20,
   "id": "e8b50a86",
   "metadata": {},
   "outputs": [
    {
     "data": {
      "text/plain": [
       "ColDefs(\n",
       "    name = 'NN_PHI'; format = 'E'\n",
       "    name = 'MOM_PHI'; format = 'E'\n",
       "    name = 'MOM_ELLIP'; format = 'E'\n",
       "    name = 'NN_WEIGHT'; format = 'E'\n",
       "    name = 'NN_ABS'; format = '2E'; dim = '(2)'\n",
       "    name = 'MOM_ABS'; format = '2E'; dim = '(2)'\n",
       "    name = 'XY_MOM_ABS'; format = '2E'; dim = '(2)'\n",
       "    name = 'NN_ENERGY'; format = 'E'\n",
       "    name = 'XY_NN_ABS'; format = '2E'; dim = '(2)'\n",
       "    name = 'MOM_ENERGY'; format = 'E'\n",
       "    name = 'TRG_ID'; format = 'J'\n",
       "    name = 'NN_WEIGHT_EPIS'; format = 'E'\n",
       "    name = 'P_TAIL'; format = 'E'\n",
       "    name = 'FLAG'; format = 'J'\n",
       "    name = 'DIRECTION_FLAG'; format = 'J'\n",
       ")"
      ]
     },
     "execution_count": 20,
     "metadata": {},
     "output_type": "execute_result"
    }
   ],
   "source": [
    "meas_results.columns"
   ]
  },
  {
   "cell_type": "markdown",
   "id": "267c5247",
   "metadata": {},
   "source": [
    "**New for v2.0:** 'P_TAIL' gives the predicted tail track probability (probability that the event converted inside the Be window or the GEM). This can be used to cut events at the desired threshold to improve the energy resolution and modulation factor calibration. We show an example below for the energy histograms.\n",
    "\n",
    "'DIRECTION_FLAG' notes if the NNs were unable to assign a track direction (along the principle axis) for this event. These events have a randomly assigned direction (+ or - along the predicted principal axis). The fraction of events with out a direction will increase with lower energy."
   ]
  },
  {
   "cell_type": "markdown",
   "id": "bbaadfe7",
   "metadata": {},
   "source": [
    "## Analyse polarization results with weighted Stokes' analysis"
   ]
  },
  {
   "cell_type": "markdown",
   "id": "8e409965",
   "metadata": {},
   "source": [
    "`util/methods.py' contains the majority of our polarization analysis functions, including weighted Stokes parameters."
   ]
  },
  {
   "cell_type": "code",
   "execution_count": 29,
   "id": "80f23ecb",
   "metadata": {},
   "outputs": [
    {
     "name": "stdout",
     "output_type": "stream",
     "text": [
      "(mu, theta0, Neff, mu_err, theta0_err)\n",
      "NN 0.03053, 1.46, 5e+04, 0.006323, 0.1036,\n",
      "MDP99: 62.85 \n",
      "\n",
      "Mom 0.01701, -0.6313, 5e+04, 0.006324, 0.1859,\n",
      "MDP99: 112.8\n",
      "\n",
      " Weighted:\n",
      "(mu, theta0, Neff, mu_err, theta0_err)\n",
      "NN 0.01931, -1.488, 4.039e+04, 0.007036, 0.1822,\n",
      "MDP99: 110.5 \n",
      "\n",
      "Mom 0.0298, -0.1978, 9.367e+03, 0.01461, 0.2452,\n",
      "MDP99: 148.7 \n",
      "\n"
     ]
    },
    {
     "data": {
      "text/plain": [
       "<matplotlib.lines.Line2D at 0x29a126a70>"
      ]
     },
     "execution_count": 29,
     "metadata": {},
     "output_type": "execute_result"
    },
    {
     "data": {
      "image/png": "[encoded data removed]",
      "text/plain": [
       "<Figure size 1800x600 with 3 Axes>"
      ]
     },
     "metadata": {},
     "output_type": "display_data"
    }
   ],
   "source": [
    "fig, (ax,ax2,ax3) = plt.subplots(figsize=(18,6), ncols=3)\n",
    "\n",
    "print(\"(mu, theta0, Neff, mu_err, theta0_err)\")\n",
    "\n",
    "mu, theta0, Neff, mu_err, theta0_err = weighted_stokes(meas_results['NN_PHI'], error=True)\n",
    "\n",
    "print(f\"NN {mu:.4}, {theta0:.4}, {Neff:.4}, {mu_err:.4}, {theta0_err:.4},\")\n",
    "print(f\"MDP99: {MDP99(Neff, mu):.4} \\n\")\n",
    "\n",
    "mu_mom, theta0, Neff, mu_mom_err, theta0_err = weighted_stokes(meas_results['MOM_PHI'], error=True)\n",
    "\n",
    "print(f\"Mom {mu_mom:.4}, {theta0:.4}, {Neff:.4}, {mu_mom_err:.4}, {theta0_err:.4},\")\n",
    "print(f\"MDP99: {MDP99(Neff, mu_mom):.4}\")\n",
    "\n",
    "\n",
    "h = ax.hist(meas_results['NN_PHI'], histtype='step', bins=100,color='r',label=f'NN, $\\mu = {mu:.3} \\pm {mu_err:.1}$')\n",
    "h = ax.hist(meas_results['MOM_PHI'], histtype='step', bins=100,color='b',label=f'Mom., $\\mu = {mu_mom:.3} \\pm {mu_mom_err:.1}$')\n",
    "\n",
    "ax.set_xlabel(r\"$\\theta$\")\n",
    "ax.set_ylabel(\"Counts\")\n",
    "ax.set_xlim(-np.pi,np.pi)\n",
    "\n",
    "leg = ax.legend(loc = 4,)\n",
    "\n",
    "# Apply a weighted analysis using optimal weights predicted by the NNs or moment ellipticities. \n",
    "print(\"\\n Weighted:\")\n",
    "print(\"(mu, theta0, Neff, mu_err, theta0_err)\")\n",
    "mu, theta0, Neff, mu_err, theta0_err = weighted_stokes(meas_results['NN_PHI'], meas_results['NN_WEIGHT'], error=True)\n",
    "print(f\"NN {mu:.4}, {theta0:.4}, {Neff:.4}, {mu_err:.4}, {theta0_err:.4},\")\n",
    "print(f\"MDP99: {MDP99(Neff, mu):.4} \\n\")\n",
    "mu, theta0, Neff, mu_err, theta0_err = weighted_stokes(meas_results['MOM_PHI'], meas_results['MOM_ELLIP'], error=True)\n",
    "print(f\"Mom {mu:.4}, {theta0:.4}, {Neff:.4}, {mu_err:.4}, {theta0_err:.4},\")\n",
    "print(f\"MDP99: {MDP99(Neff, mu):.4} \\n\")\n",
    "\n",
    "\n",
    "##Energy resolution\n",
    "cut = meas_results['P_TAIL'] <= 0.7\n",
    "ebins = np.linspace(0, 10, 100)\n",
    "h = ax2.hist(meas_results['NN_ENERGY'][cut], histtype='step', bins=ebins,color='r', ls='--',label=f'NN tail cut 70%', density=True)\n",
    "h = ax2.hist(meas_results['MOM_ENERGY'], histtype='step', bins=ebins,color='b',label=f'Mom.', density=True)\n",
    "ax2.set_xlabel(\"E [keV]\")\n",
    "leg = ax2.legend()\n",
    "\n",
    "##Ptail\n",
    "h = ax3.hist(meas_results['P_TAIL'], histtype='step', bins=100, color='k')\n",
    "ax3.set_xlabel(\"tail probability\")\n",
    "ax3.axvline(0.7, ls='--', color='k')"
   ]
  },
  {
   "cell_type": "code",
   "execution_count": null,
   "id": "3ba5a8c7",
   "metadata": {},
   "outputs": [],
   "source": []
  }
 ],
 "metadata": {
  "kernelspec": {
   "display_name": "Python 3",
   "language": "python",
   "name": "python3"
  },
  "language_info": {
   "codemirror_mode": {
    "name": "ipython",
    "version": 3
   },
   "file_extension": ".py",
   "mimetype": "text/x-python",
   "name": "python",
   "nbconvert_exporter": "python",
   "pygments_lexer": "ipython3",
   "version": "3.10.5"
  },
  "vscode": {
   "interpreter": {
    "hash": "aee8b7b246df8f9039afb4144a1f6fd8d2ca17a180786b69acc140d282b71a49"
   }
  }
 },
 "nbformat": 4,
 "nbformat_minor": 5
}
